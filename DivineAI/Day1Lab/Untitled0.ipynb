{
  "nbformat": 4,
  "nbformat_minor": 0,
  "metadata": {
    "colab": {
      "name": "Untitled0.ipynb",
      "provenance": [],
      "authorship_tag": "ABX9TyMsjK5mO1W7s2ohJbbLMb36",
      "include_colab_link": true
    },
    "kernelspec": {
      "name": "python3",
      "display_name": "Python 3"
    },
    "language_info": {
      "name": "python"
    }
  },
  "cells": [
    {
      "cell_type": "markdown",
      "metadata": {
        "id": "view-in-github",
        "colab_type": "text"
      },
      "source": [
        "<a href=\"https://colab.research.google.com/github/Harsh284raj/PythonLab/blob/main/DivineAI/Day1Lab/Untitled0.ipynb\" target=\"_parent\"><img src=\"https://colab.research.google.com/assets/colab-badge.svg\" alt=\"Open In Colab\"/></a>"
      ]
    },
    {
      "cell_type": "code",
      "metadata": {
        "colab": {
          "base_uri": "https://localhost:8080/"
        },
        "id": "TIu6QEIUNIQT",
        "outputId": "450d31b4-e3f9-430f-f3c3-04dcd9710da6"
      },
      "source": [
        "A=\"Harsh\"\n",
        "print(type(A))\n",
        "print (type(7.2))\n",
        "print(type(100))\n",
        "x,y,z=1,2,3\n",
        "x,y,z=y,z,x\n",
        "print(x,y,z)"
      ],
      "execution_count": 27,
      "outputs": [
        {
          "output_type": "stream",
          "text": [
            "<class 'str'>\n",
            "<class 'float'>\n",
            "<class 'int'>\n",
            "2 3 1\n"
          ],
          "name": "stdout"
        }
      ]
    },
    {
      "cell_type": "code",
      "metadata": {
        "colab": {
          "base_uri": "https://localhost:8080/",
          "height": 122
        },
        "id": "k_gN7oSvO3Vt",
        "outputId": "98a7798e-d19c-45cd-f186-ff30c1ed2ef5"
      },
      "source": [
        "  \n",
        "divisor, divident = 6, \n",
        "ans = divident / divisor\n",
        "print(ans)\n",
        "a, b, c, d = 2, 3, 4, 5\n",
        "\n",
        "ans = a + b * c / d\n",
        "print(ans)\n",
        "\n",
        "# ** is power\n",
        "exp = a ** b\n",
        "print(exp)\n",
        "\n",
        "mod = b % a\n",
        "print(mod)\n",
        "\n",
        "# // returns integer division result\n",
        "intDiv = d // a\n",
        "# / returns float division result\n",
        "div = d / a\n",
        "print(div, intDiv)\n",
        "\n",
        "\n",
        "'''\n",
        "PEMDAS\n",
        "Parentheses\n",
        "Exponents\n",
        "Multiplication\n",
        "Division\n",
        "Addition\n",
        "Subtraction\n",
        "'''"
      ],
      "execution_count": 28,
      "outputs": [
        {
          "output_type": "stream",
          "text": [
            "0.5\n",
            "4.4\n",
            "8\n",
            "1\n",
            "2.5 2\n"
          ],
          "name": "stdout"
        },
        {
          "output_type": "execute_result",
          "data": {
            "application/vnd.google.colaboratory.intrinsic+json": {
              "type": "string"
            },
            "text/plain": [
              "'\\nPEMDAS\\nParentheses\\nExponents\\nMultiplication\\nDivision\\nAddition\\nSubtraction\\n'"
            ]
          },
          "metadata": {
            "tags": []
          },
          "execution_count": 28
        }
      ]
    },
    {
      "cell_type": "code",
      "metadata": {
        "colab": {
          "base_uri": "https://localhost:8080/"
        },
        "id": "tcHIaFksSvYc",
        "outputId": "5ad427d7-e0be-49a9-f710-8c4cbaeff6b8"
      },
      "source": [
        "num = 10\n",
        "print(num * 2)\n",
        "print(num)\n",
        "\n",
        "num /= 2\n",
        "print(num)\n",
        "\n",
        "#Naming Convension\n",
        "#snake_case\n",
        "snake_case = 10\n",
        "\n",
        "#for constants\n",
        "CAPITAL_SNAKE_CASE, PI = 100, 3.14159603\n",
        "#for class\n",
        "class UpperCamelCase:\n",
        "    pass\n",
        "\n",
        "#dunders ('d'ouble 'unders'cores) means something u shouldn't touch"
      ],
      "execution_count": 29,
      "outputs": [
        {
          "output_type": "stream",
          "text": [
            "20\n",
            "10\n",
            "5.0\n"
          ],
          "name": "stdout"
        }
      ]
    },
    {
      "cell_type": "code",
      "metadata": {
        "colab": {
          "base_uri": "https://localhost:8080/"
        },
        "id": "IIrScsAoWESi",
        "outputId": "7e52ceef-0d8e-4491-9cfe-0c9344913867"
      },
      "source": [
        "'''\n",
        "bool\n",
        "int\n",
        "str\n",
        "list\n",
        "dict\n",
        "'''\n",
        "\n",
        "#bool\n",
        "is_active = True\n",
        "inactive = not is_active\n",
        "print(is_active)\n",
        "print(not is_active)\n",
        "print(inactive)\n",
        "print(not inactive)\n",
        "\n",
        "#str\n",
        "some_string = \"Har har mahadev!\"\n",
        "print(some_string)\n",
        "\n",
        "#list\n",
        "my_number = [1, 2, 4, 3]\n",
        "print(my_number)\n",
        "print(my_number[2])\n",
        "\n",
        "#dict\n",
        "my_name={'first_name': \"Harsh\" ,'Last_name': \"Raj\"}\n",
        "print(my_name)\n",
        "print(my_name['first_name'])\n",
        "print(my_name['Last_name'])"
      ],
      "execution_count": 30,
      "outputs": [
        {
          "output_type": "stream",
          "text": [
            "True\n",
            "False\n",
            "False\n",
            "True\n",
            "Har har mahadev!\n",
            "[1, 2, 4, 3]\n",
            "4\n",
            "{'first_name': 'Harsh', 'Last_name': 'Raj'}\n",
            "Harsh\n",
            "Raj\n"
          ],
          "name": "stdout"
        }
      ]
    },
    {
      "cell_type": "code",
      "metadata": {
        "colab": {
          "base_uri": "https://localhost:8080/"
        },
        "id": "koOsDmefWMVM",
        "outputId": "ece66134-6f11-4f36-c693-0d023ab836a0"
      },
      "source": [
        "  \n",
        "game_over = True\n",
        "print(game_over)\n",
        "\n",
        "game_over = \"Yes, it's over!\"\n",
        "print(game_over)\n",
        "\n",
        "game_over = 5*2\n",
        "print(game_over)\n",
        "\n",
        "#None is nothing\n",
        "game_over = None\n",
        "print(game_over)\n",
        "print(type(game_over))"
      ],
      "execution_count": 31,
      "outputs": [
        {
          "output_type": "stream",
          "text": [
            "True\n",
            "Yes, it's over!\n",
            "10\n",
            "None\n",
            "<class 'NoneType'>\n"
          ],
          "name": "stdout"
        }
      ]
    },
    {
      "cell_type": "code",
      "metadata": {
        "colab": {
          "base_uri": "https://localhost:8080/"
        },
        "id": "vq0xfql-WSta",
        "outputId": "ccc6026f-68bc-4a72-e47d-9f30b860ec22"
      },
      "source": [
        "single_qoute = 'hello'\n",
        "double_qoute = \"hello\"\n",
        "print(single_qoute)\n",
        "print(double_qoute)\n",
        "\n",
        "qoute = 'he said, \"hello there!\"'\n",
        "print(qoute)\n",
        "qoute = \"he said, 'hello there'\"\n",
        "print(qoute)\n",
        "\n",
        "qoute = \"he said, \\\"hello there!\\\"\"\n",
        "print(qoute)\n",
        "\n",
        "#string concatenation\n",
        "username = \"mhkm\"\n",
        "msg = \"Hello \" + username\n",
        "print(msg)\n",
        "\n",
        "#Formatting String\n",
        "name = \"Humayun\"\n",
        "msg = f\"Hello Mr. {name} Welcome!\"\n",
        "msg2 = \"Hello Mr. {} Welcome!\".format(name)\n",
        "print(msg)\n",
        "print(msg2)"
      ],
      "execution_count": 32,
      "outputs": [
        {
          "output_type": "stream",
          "text": [
            "hello\n",
            "hello\n",
            "he said, \"hello there!\"\n",
            "he said, 'hello there'\n",
            "he said, \"hello there!\"\n",
            "Hello mhkm\n",
            "Hello Mr. Humayun Welcome!\n",
            "Hello Mr. Humayun Welcome!\n"
          ],
          "name": "stdout"
        }
      ]
    },
    {
      "cell_type": "code",
      "metadata": {
        "colab": {
          "base_uri": "https://localhost:8080/"
        },
        "id": "1zm01JS5WlOo",
        "outputId": "06b1369e-60c3-4d4b-d5bd-1ed125b5fe89"
      },
      "source": [
        "intx = 10\n",
        "print(type(intx))\n",
        "\n",
        "floatx = float(intx)\n",
        "print(floatx)"
      ],
      "execution_count": 33,
      "outputs": [
        {
          "output_type": "stream",
          "text": [
            "<class 'int'>\n",
            "10.0\n"
          ],
          "name": "stdout"
        }
      ]
    },
    {
      "cell_type": "code",
      "metadata": {
        "colab": {
          "base_uri": "https://localhost:8080/"
        },
        "id": "3Te2J1FxWrsu",
        "outputId": "ea66ccda-ee32-440f-8be2-0ed17eab50b8"
      },
      "source": [
        "print(\"How many KM did you cycle today?\")\n",
        "# by default input return string input\n",
        "kms = float(input())\n",
        "miles = kms/1.61\n",
        "# precisions\n",
        "miles = round(miles, 3)\n",
        "print(f\"Your {kms} KM is {miles} Miles\")"
      ],
      "execution_count": 34,
      "outputs": [
        {
          "output_type": "stream",
          "text": [
            "How many KM did you cycle today?\n",
            "10\n",
            "Your 10.0 KM is 6.211 Miles\n"
          ],
          "name": "stdout"
        }
      ]
    },
    {
      "cell_type": "code",
      "metadata": {
        "colab": {
          "base_uri": "https://localhost:8080/"
        },
        "id": "P807ZbWMWxUI",
        "outputId": "27e4cb06-4845-4426-e5ea-31c83e6bb51a"
      },
      "source": [
        "  \n",
        "print(\"What's your favorite color?\")\n",
        "color = input()\n",
        "print(\"Your color is: \" + color)"
      ],
      "execution_count": 35,
      "outputs": [
        {
          "output_type": "stream",
          "text": [
            "What's your favorite color?\n",
            "red\n",
            "Your color is: red\n"
          ],
          "name": "stdout"
        }
      ]
    },
    {
      "cell_type": "code",
      "metadata": {
        "colab": {
          "base_uri": "https://localhost:8080/"
        },
        "id": "_H8cQ4nOjvT8",
        "outputId": "3cbdee97-b5f0-4096-cecf-01ed0dd7b4c6"
      },
      "source": [
        "name = \"humayun\"\n",
        "\n",
        "if name is \"humayun\":\n",
        "    print(\"First Name\")\n",
        "elif name is \"kabir\":\n",
        "    print(\"Last Name\")\n",
        "else:\n",
        "    print(\"Wrong Name\")\n",
        "\n",
        "name = \"kabir\"\n",
        "if name == \"humayun\":\n",
        "    print(\"First Name\")\n",
        "elif name == \"kabir\":\n",
        "    print(\"Last Name\")\n",
        "else:\n",
        "    print(\"Wrong Name\")"
      ],
      "execution_count": 36,
      "outputs": [
        {
          "output_type": "stream",
          "text": [
            "First Name\n",
            "Last Name\n"
          ],
          "name": "stdout"
        }
      ]
    },
    {
      "cell_type": "code",
      "metadata": {
        "colab": {
          "base_uri": "https://localhost:8080/"
        },
        "id": "QvzFZNFwj2ui",
        "outputId": "acde6aef-be00-4390-d5c4-2e0d05f580e6"
      },
      "source": [
        "  \n",
        "print(\"Give a rating on my work(out of 5)!\")\n",
        "rate = int(input())\n",
        "\n",
        "if rate is 5:\n",
        "    print(\"Excellent\")\n",
        "elif rate is 4:\n",
        "    print(\"Very Good\")\n",
        "elif rate is 3:\n",
        "    print(\"Good\")\n",
        "elif rate is 2:\n",
        "    print(\"Not Good\")\n",
        "elif rate is 1:\n",
        "    print(\"Bad\")\n",
        "else:\n",
        "    print(\"Rating should be in 1 to 5\")"
      ],
      "execution_count": 41,
      "outputs": [
        {
          "output_type": "stream",
          "text": [
            "Give a rating on my work(out of 5)!\n",
            "5\n",
            "Excellent\n"
          ],
          "name": "stdout"
        }
      ]
    },
    {
      "cell_type": "code",
      "metadata": {
        "colab": {
          "base_uri": "https://localhost:8080/"
        },
        "id": "YJ6_6n0tj_ah",
        "outputId": "6a375f16-c810-46df-cd8d-28caceb60e88"
      },
      "source": [
        "  \n",
        "age, sex = 20, \"Female\"\n",
        "\n",
        "if age > 18 and sex is \"Female\":\n",
        "    print(\"Go and Get Marry\")\n",
        "else:\n",
        "    print(\"You don't have marry\")"
      ],
      "execution_count": 39,
      "outputs": [
        {
          "output_type": "stream",
          "text": [
            "Go and Get Marry\n"
          ],
          "name": "stdout"
        }
      ]
    },
    {
      "cell_type": "code",
      "metadata": {
        "id": "GMDbMOCFkIjY"
      },
      "source": [
        ""
      ],
      "execution_count": 38,
      "outputs": []
    },
    {
      "cell_type": "code",
      "metadata": {
        "id": "04X-jwNMnYYz"
      },
      "source": [
        ""
      ],
      "execution_count": null,
      "outputs": []
    },
    {
      "cell_type": "code",
      "metadata": {
        "id": "3kWLor0bnYtr"
      },
      "source": [
        ""
      ],
      "execution_count": null,
      "outputs": []
    },
    {
      "cell_type": "code",
      "metadata": {
        "id": "eYhRTlA4nZG7"
      },
      "source": [
        ""
      ],
      "execution_count": null,
      "outputs": []
    }
  ]
}